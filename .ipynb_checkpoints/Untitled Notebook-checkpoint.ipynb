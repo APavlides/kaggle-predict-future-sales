{
 "cells": [
  {
   "cell_type": "code",
   "execution_count": 5,
   "metadata": {},
   "outputs": [
    {
     "name": "stdout",
     "output_type": "stream",
     "text": [
      "Requirement already satisfied: lxml in /usr/local/envs/py3env/lib/python3.5/site-packages (4.0.0)\n"
     ]
    }
   ],
   "source": [
    "%bash\n",
    "# install required packages \n",
    "pip install lxml\n",
    "pip install kaggle-cli --quiet\n",
    "pip install -U kaggle-cli --quiet\n"
   ]
  },
  {
   "cell_type": "code",
   "execution_count": 7,
   "metadata": {},
   "outputs": [
    {
     "name": "stdout",
     "output_type": "stream",
     "text": [
      "Your account has been temporarily locked out due to unsuccessful login attempts. Please try again later.\n"
     ]
    },
    {
     "name": "stderr",
     "output_type": "stream",
     "text": [
      "/usr/local/envs/py3env/lib/python3.5/site-packages/mechanicalsoup/browser.py:37: UserWarning: No parser was explicitly specified, so I'm using the best available HTML parser for this system (\"lxml\"). This usually isn't a problem, but if you run this code on another system, or in a different virtual environment, it may use a different parser and behave differently.\n",
      "\n",
      "The code that caused this warning is on line 37 of the file /usr/local/envs/py3env/lib/python3.5/site-packages/mechanicalsoup/browser.py. To get rid of this warning, pass the additional argument 'features=\"lxml\"' to the BeautifulSoup constructor.\n",
      "\n",
      "  response.content, **soup_config)\n",
      "'NoneType' object has no attribute 'get'\n"
     ]
    }
   ],
   "source": [
    "%bash\n",
    "# download data files, I will move these to a persistant storage bucket in future. \n",
    "cd ~\n",
    "cd /datalab/\n",
    "mkdir -p data\n",
    "cd data\n",
    "kg download -u 'datatechap' -p '' -c 'competitive-data-science-predict-future-sales'\n"
   ]
  }
 ],
 "metadata": {
  "kernelspec": {
   "display_name": "Python 3",
   "language": "python",
   "name": "python3"
  },
  "language_info": {
   "codemirror_mode": {
    "name": "ipython",
    "version": 3
   },
   "file_extension": ".py",
   "mimetype": "text/x-python",
   "name": "python",
   "nbconvert_exporter": "python",
   "pygments_lexer": "ipython3",
   "version": "3.5.5"
  }
 },
 "nbformat": 4,
 "nbformat_minor": 2
}
